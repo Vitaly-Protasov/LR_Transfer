{
 "cells": [
  {
   "cell_type": "code",
   "execution_count": 6,
   "id": "4e047dc8",
   "metadata": {
    "scrolled": true
   },
   "outputs": [
    {
     "name": "stdout",
     "output_type": "stream",
     "text": [
      "Requirement already satisfied: transformers==4.24.0 in /home/jovyan/.imgenv-hardcore-jepsen-0/lib/python3.7/site-packages (from -r ../requirements.txt (line 1)) (4.24.0)\n",
      "Requirement already satisfied: datasets==2.6.1 in /home/jovyan/.imgenv-hardcore-jepsen-0/lib/python3.7/site-packages (from -r ../requirements.txt (line 2)) (2.6.1)\n",
      "Requirement already satisfied: flax==0.6.1 in /home/jovyan/.imgenv-hardcore-jepsen-0/lib/python3.7/site-packages (from -r ../requirements.txt (line 3)) (0.6.1)\n",
      "Requirement already satisfied: fire==0.4.0 in /home/jovyan/.imgenv-hardcore-jepsen-0/lib/python3.7/site-packages (from -r ../requirements.txt (line 4)) (0.4.0)\n",
      "Requirement already satisfied: numpy>=1.17 in /home/user/conda/lib/python3.7/site-packages (from transformers==4.24.0->-r ../requirements.txt (line 1)) (1.21.5)\n",
      "Requirement already satisfied: filelock in /home/user/conda/lib/python3.7/site-packages (from transformers==4.24.0->-r ../requirements.txt (line 1)) (3.4.2)\n",
      "Requirement already satisfied: pyyaml>=5.1 in /home/user/conda/lib/python3.7/site-packages (from transformers==4.24.0->-r ../requirements.txt (line 1)) (6.0)\n",
      "Requirement already satisfied: huggingface-hub<1.0,>=0.10.0 in /home/jovyan/.imgenv-hardcore-jepsen-0/lib/python3.7/site-packages (from transformers==4.24.0->-r ../requirements.txt (line 1)) (0.16.4)\n",
      "Requirement already satisfied: tqdm>=4.27 in /home/user/conda/lib/python3.7/site-packages (from transformers==4.24.0->-r ../requirements.txt (line 1)) (4.62.3)\n",
      "Requirement already satisfied: importlib-metadata in /home/user/conda/lib/python3.7/site-packages (from transformers==4.24.0->-r ../requirements.txt (line 1)) (4.10.1)\n",
      "Requirement already satisfied: tokenizers!=0.11.3,<0.14,>=0.11.1 in /home/jovyan/.imgenv-hardcore-jepsen-0/lib/python3.7/site-packages (from transformers==4.24.0->-r ../requirements.txt (line 1)) (0.13.3)\n",
      "Requirement already satisfied: regex!=2019.12.17 in /home/user/conda/lib/python3.7/site-packages (from transformers==4.24.0->-r ../requirements.txt (line 1)) (2022.1.18)\n",
      "Requirement already satisfied: packaging>=20.0 in /home/user/conda/lib/python3.7/site-packages (from transformers==4.24.0->-r ../requirements.txt (line 1)) (21.3)\n",
      "Requirement already satisfied: requests in /home/user/conda/lib/python3.7/site-packages (from transformers==4.24.0->-r ../requirements.txt (line 1)) (2.27.1)\n",
      "Requirement already satisfied: aiohttp in /home/user/conda/lib/python3.7/site-packages (from datasets==2.6.1->-r ../requirements.txt (line 2)) (3.8.1)\n",
      "Requirement already satisfied: xxhash in /home/jovyan/.imgenv-hardcore-jepsen-0/lib/python3.7/site-packages (from datasets==2.6.1->-r ../requirements.txt (line 2)) (3.4.1)\n",
      "Requirement already satisfied: dill<0.3.6 in /home/jovyan/.imgenv-hardcore-jepsen-0/lib/python3.7/site-packages (from datasets==2.6.1->-r ../requirements.txt (line 2)) (0.3.5.1)\n",
      "Requirement already satisfied: fsspec[http]>=2021.11.1 in /home/user/conda/lib/python3.7/site-packages (from datasets==2.6.1->-r ../requirements.txt (line 2)) (2022.1.0)\n",
      "Requirement already satisfied: pyarrow>=6.0.0 in /home/user/conda/lib/python3.7/site-packages (from datasets==2.6.1->-r ../requirements.txt (line 2)) (6.0.1)\n",
      "Requirement already satisfied: pandas in /home/user/conda/lib/python3.7/site-packages (from datasets==2.6.1->-r ../requirements.txt (line 2)) (1.3.5)\n",
      "Requirement already satisfied: multiprocess in /home/jovyan/.imgenv-hardcore-jepsen-0/lib/python3.7/site-packages (from datasets==2.6.1->-r ../requirements.txt (line 2)) (0.70.13)\n",
      "Requirement already satisfied: responses<0.19 in /home/jovyan/.imgenv-hardcore-jepsen-0/lib/python3.7/site-packages (from datasets==2.6.1->-r ../requirements.txt (line 2)) (0.18.0)\n",
      "Requirement already satisfied: jax>=0.3.16 in /home/jovyan/.imgenv-hardcore-jepsen-0/lib/python3.7/site-packages (from flax==0.6.1->-r ../requirements.txt (line 3)) (0.3.25)\n",
      "Requirement already satisfied: msgpack in /home/user/conda/lib/python3.7/site-packages (from flax==0.6.1->-r ../requirements.txt (line 3)) (1.0.3)\n",
      "Requirement already satisfied: rich>=11.1 in /home/jovyan/.imgenv-hardcore-jepsen-0/lib/python3.7/site-packages (from flax==0.6.1->-r ../requirements.txt (line 3)) (13.6.0)\n",
      "Requirement already satisfied: typing-extensions>=4.1.1 in /home/jovyan/.imgenv-hardcore-jepsen-0/lib/python3.7/site-packages (from flax==0.6.1->-r ../requirements.txt (line 3)) (4.7.1)\n",
      "Requirement already satisfied: matplotlib in /home/user/conda/lib/python3.7/site-packages (from flax==0.6.1->-r ../requirements.txt (line 3)) (3.5.1)\n",
      "Requirement already satisfied: optax in /home/jovyan/.imgenv-hardcore-jepsen-0/lib/python3.7/site-packages (from flax==0.6.1->-r ../requirements.txt (line 3)) (0.1.4)\n",
      "Requirement already satisfied: six in /home/user/conda/lib/python3.7/site-packages (from fire==0.4.0->-r ../requirements.txt (line 4)) (1.16.0)\n",
      "Requirement already satisfied: termcolor in /home/jovyan/.imgenv-hardcore-jepsen-0/lib/python3.7/site-packages (from fire==0.4.0->-r ../requirements.txt (line 4)) (2.3.0)\n",
      "Requirement already satisfied: scipy>=1.5 in /home/user/conda/lib/python3.7/site-packages (from jax>=0.3.16->flax==0.6.1->-r ../requirements.txt (line 3)) (1.7.3)\n",
      "Requirement already satisfied: opt-einsum in /home/jovyan/.imgenv-hardcore-jepsen-0/lib/python3.7/site-packages (from jax>=0.3.16->flax==0.6.1->-r ../requirements.txt (line 3)) (3.3.0)\n",
      "Requirement already satisfied: pyparsing!=3.0.5,>=2.0.2 in /home/user/conda/lib/python3.7/site-packages (from packaging>=20.0->transformers==4.24.0->-r ../requirements.txt (line 1)) (3.0.7)\n",
      "Requirement already satisfied: charset-normalizer~=2.0.0 in /home/user/conda/lib/python3.7/site-packages (from requests->transformers==4.24.0->-r ../requirements.txt (line 1)) (2.0.10)\n",
      "Requirement already satisfied: urllib3<1.27,>=1.21.1 in /home/user/conda/lib/python3.7/site-packages (from requests->transformers==4.24.0->-r ../requirements.txt (line 1)) (1.26.8)\n",
      "Requirement already satisfied: certifi>=2017.4.17 in /home/user/conda/lib/python3.7/site-packages (from requests->transformers==4.24.0->-r ../requirements.txt (line 1)) (2021.10.8)\n",
      "Requirement already satisfied: idna<4,>=2.5 in /home/user/conda/lib/python3.7/site-packages (from requests->transformers==4.24.0->-r ../requirements.txt (line 1)) (3.3)\n",
      "Requirement already satisfied: pygments<3.0.0,>=2.13.0 in /home/jovyan/.imgenv-hardcore-jepsen-0/lib/python3.7/site-packages (from rich>=11.1->flax==0.6.1->-r ../requirements.txt (line 3)) (2.16.1)\n",
      "Requirement already satisfied: markdown-it-py>=2.2.0 in /home/jovyan/.imgenv-hardcore-jepsen-0/lib/python3.7/site-packages (from rich>=11.1->flax==0.6.1->-r ../requirements.txt (line 3)) (2.2.0)\n",
      "Requirement already satisfied: attrs>=17.3.0 in /home/user/conda/lib/python3.7/site-packages (from aiohttp->datasets==2.6.1->-r ../requirements.txt (line 2)) (21.4.0)\n",
      "Requirement already satisfied: asynctest==0.13.0 in /home/user/conda/lib/python3.7/site-packages (from aiohttp->datasets==2.6.1->-r ../requirements.txt (line 2)) (0.13.0)\n",
      "Requirement already satisfied: frozenlist>=1.1.1 in /home/user/conda/lib/python3.7/site-packages (from aiohttp->datasets==2.6.1->-r ../requirements.txt (line 2)) (1.3.0)\n",
      "Requirement already satisfied: multidict<7.0,>=4.5 in /home/user/conda/lib/python3.7/site-packages (from aiohttp->datasets==2.6.1->-r ../requirements.txt (line 2)) (5.2.0)\n",
      "Requirement already satisfied: aiosignal>=1.1.2 in /home/user/conda/lib/python3.7/site-packages (from aiohttp->datasets==2.6.1->-r ../requirements.txt (line 2)) (1.2.0)\n",
      "Requirement already satisfied: yarl<2.0,>=1.0 in /home/user/conda/lib/python3.7/site-packages (from aiohttp->datasets==2.6.1->-r ../requirements.txt (line 2)) (1.7.2)\n",
      "Requirement already satisfied: async-timeout<5.0,>=4.0.0a3 in /home/user/conda/lib/python3.7/site-packages (from aiohttp->datasets==2.6.1->-r ../requirements.txt (line 2)) (4.0.2)\n",
      "Requirement already satisfied: zipp>=0.5 in /home/user/conda/lib/python3.7/site-packages (from importlib-metadata->transformers==4.24.0->-r ../requirements.txt (line 1)) (3.7.0)\n",
      "Requirement already satisfied: pillow>=6.2.0 in /home/user/conda/lib/python3.7/site-packages (from matplotlib->flax==0.6.1->-r ../requirements.txt (line 3)) (9.0.0)\n",
      "Requirement already satisfied: kiwisolver>=1.0.1 in /home/user/conda/lib/python3.7/site-packages (from matplotlib->flax==0.6.1->-r ../requirements.txt (line 3)) (1.3.2)\n",
      "Requirement already satisfied: fonttools>=4.22.0 in /home/user/conda/lib/python3.7/site-packages (from matplotlib->flax==0.6.1->-r ../requirements.txt (line 3)) (4.28.5)\n",
      "Requirement already satisfied: cycler>=0.10 in /home/user/conda/lib/python3.7/site-packages (from matplotlib->flax==0.6.1->-r ../requirements.txt (line 3)) (0.11.0)\n",
      "Requirement already satisfied: python-dateutil>=2.7 in /home/user/conda/lib/python3.7/site-packages (from matplotlib->flax==0.6.1->-r ../requirements.txt (line 3)) (2.8.2)\n"
     ]
    },
    {
     "name": "stdout",
     "output_type": "stream",
     "text": [
      "Requirement already satisfied: absl-py>=0.7.1 in /home/user/conda/lib/python3.7/site-packages (from optax->flax==0.6.1->-r ../requirements.txt (line 3)) (1.0.0)\n",
      "Requirement already satisfied: chex>=0.1.5 in /home/jovyan/.imgenv-hardcore-jepsen-0/lib/python3.7/site-packages (from optax->flax==0.6.1->-r ../requirements.txt (line 3)) (0.1.5)\n",
      "Requirement already satisfied: jaxlib>=0.1.37 in /home/jovyan/.imgenv-hardcore-jepsen-0/lib/python3.7/site-packages (from optax->flax==0.6.1->-r ../requirements.txt (line 3)) (0.1.63)\n",
      "Requirement already satisfied: pytz>=2017.3 in /home/user/conda/lib/python3.7/site-packages (from pandas->datasets==2.6.1->-r ../requirements.txt (line 2)) (2021.3)\n",
      "Requirement already satisfied: toolz>=0.9.0 in /home/user/conda/lib/python3.7/site-packages (from chex>=0.1.5->optax->flax==0.6.1->-r ../requirements.txt (line 3)) (0.11.2)\n",
      "Requirement already satisfied: dm-tree>=0.1.5 in /home/jovyan/.imgenv-hardcore-jepsen-0/lib/python3.7/site-packages (from chex>=0.1.5->optax->flax==0.6.1->-r ../requirements.txt (line 3)) (0.1.8)\n",
      "Requirement already satisfied: flatbuffers in /home/jovyan/.imgenv-hardcore-jepsen-0/lib/python3.7/site-packages (from jaxlib>=0.1.37->optax->flax==0.6.1->-r ../requirements.txt (line 3)) (23.5.26)\n",
      "Requirement already satisfied: mdurl~=0.1 in /home/jovyan/.imgenv-hardcore-jepsen-0/lib/python3.7/site-packages (from markdown-it-py>=2.2.0->rich>=11.1->flax==0.6.1->-r ../requirements.txt (line 3)) (0.1.2)\n"
     ]
    }
   ],
   "source": [
    "!pip install -r ../requirements.txt"
   ]
  },
  {
   "cell_type": "code",
   "execution_count": 1,
   "id": "e4486f69",
   "metadata": {},
   "outputs": [],
   "source": [
    "cd ../mt5_experiments/"
   ]
  },
  {
   "cell_type": "code",
   "execution_count": 2,
   "id": "7a54725d",
   "metadata": {},
   "outputs": [],
   "source": [
    "from tl_experiments import mt5PerplexityExperiments"
   ]
  },
  {
   "cell_type": "code",
   "execution_count": 3,
   "id": "ca4c29bb",
   "metadata": {},
   "outputs": [],
   "source": [
    "init = mt5PerplexityExperiments(device='cuda:0', model_id=\"google/mt5-small\")"
   ]
  },
  {
   "cell_type": "code",
   "execution_count": 4,
   "id": "617d42da",
   "metadata": {},
   "outputs": [],
   "source": [
    "dataset_folder = \"/home/jovyan/XL_Data/jovyan/protasov/XL_Dataset/Slovene/\""
   ]
  },
  {
   "cell_type": "code",
   "execution_count": null,
   "id": "6de15ab5",
   "metadata": {},
   "outputs": [
    {
     "data": {
      "application/vnd.jupyter.widget-view+json": {
       "model_id": "0b290d789c7640f29331f4577b9f19d8",
       "version_major": 2,
       "version_minor": 0
      },
      "text/plain": [
       "Resolving data files:   0%|          | 0/277 [00:00<?, ?it/s]"
      ]
     },
     "metadata": {},
     "output_type": "display_data"
    },
    {
     "name": "stderr",
     "output_type": "stream",
     "text": [
      "WARNING:datasets.builder:Using custom data configuration default-7bcd2aa503a162d0\n"
     ]
    },
    {
     "name": "stdout",
     "output_type": "stream",
     "text": [
      "Downloading and preparing dataset text/default to /home/jovyan/.cache/huggingface/datasets/text/default-7bcd2aa503a162d0/0.0.0/21a506d1b2b34316b1e82d0bd79066905d846e5d7e619823c0dd338d6f1fa6ad...\n"
     ]
    },
    {
     "data": {
      "application/vnd.jupyter.widget-view+json": {
       "model_id": "d0b5273a50f545729ab9b8a4cc161d56",
       "version_major": 2,
       "version_minor": 0
      },
      "text/plain": [
       "Downloading data files:   0%|          | 0/1 [00:00<?, ?it/s]"
      ]
     },
     "metadata": {},
     "output_type": "display_data"
    },
    {
     "data": {
      "application/vnd.jupyter.widget-view+json": {
       "model_id": "be7da5b040aa4860b35507ef86bc5fda",
       "version_major": 2,
       "version_minor": 0
      },
      "text/plain": [
       "Extracting data files:   0%|          | 0/1 [00:00<?, ?it/s]"
      ]
     },
     "metadata": {},
     "output_type": "display_data"
    },
    {
     "data": {
      "application/vnd.jupyter.widget-view+json": {
       "model_id": "",
       "version_major": 2,
       "version_minor": 0
      },
      "text/plain": [
       "0 tables [00:00, ? tables/s]"
      ]
     },
     "metadata": {},
     "output_type": "display_data"
    },
    {
     "name": "stdout",
     "output_type": "stream",
     "text": [
      "Dataset text downloaded and prepared to /home/jovyan/.cache/huggingface/datasets/text/default-7bcd2aa503a162d0/0.0.0/21a506d1b2b34316b1e82d0bd79066905d846e5d7e619823c0dd338d6f1fa6ad. Subsequent calls will reuse this data.\n"
     ]
    },
    {
     "data": {
      "application/vnd.jupyter.widget-view+json": {
       "model_id": "957aae5e430d48b29094b9bd360e281f",
       "version_major": 2,
       "version_minor": 0
      },
      "text/plain": [
       "  0%|          | 0/450 [00:00<?, ?ba/s]"
      ]
     },
     "metadata": {},
     "output_type": "display_data"
    },
    {
     "data": {
      "application/vnd.jupyter.widget-view+json": {
       "model_id": "b040d4ac9d3144dc9619b65bd8375ce4",
       "version_major": 2,
       "version_minor": 0
      },
      "text/plain": [
       "  0%|          | 0/50 [00:00<?, ?ba/s]"
      ]
     },
     "metadata": {},
     "output_type": "display_data"
    },
    {
     "data": {
      "application/vnd.jupyter.widget-view+json": {
       "model_id": "6ba48883476b4d4d89af640501e58f84",
       "version_major": 2,
       "version_minor": 0
      },
      "text/plain": [
       "  0%|          | 0/450 [00:00<?, ?ba/s]"
      ]
     },
     "metadata": {},
     "output_type": "display_data"
    }
   ],
   "source": [
    "#for _ in range(3):\n",
    "init.training(\n",
    "    train_valid_dir=dataset_folder,\n",
    "    per_device_batch_size=8,\n",
    "    n_epochs=1,\n",
    "    lr_languages_to_test = [\"Shor\"],\n",
    "    max_dataset_len = 500000,\n",
    "    save_checkpoints = True\n",
    ")\n",
    "#init.log_dict.clear()"
   ]
  },
  {
   "cell_type": "code",
   "execution_count": null,
   "id": "2e01bf9b",
   "metadata": {},
   "outputs": [],
   "source": []
  }
 ],
 "metadata": {
  "kernelspec": {
   "display_name": "Python 3 (ipykernel)",
   "language": "python",
   "name": "python3"
  },
  "language_info": {
   "codemirror_mode": {
    "name": "ipython",
    "version": 3
   },
   "file_extension": ".py",
   "mimetype": "text/x-python",
   "name": "python",
   "nbconvert_exporter": "python",
   "pygments_lexer": "ipython3",
   "version": "3.7.12"
  }
 },
 "nbformat": 4,
 "nbformat_minor": 5
}
