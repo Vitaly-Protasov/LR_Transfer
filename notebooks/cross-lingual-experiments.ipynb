{
 "cells": [
  {
   "cell_type": "code",
   "execution_count": 6,
   "id": "a6e9db3d",
   "metadata": {
    "scrolled": true
   },
   "outputs": [
    {
     "name": "stdout",
     "output_type": "stream",
     "text": [
      "Requirement already satisfied: transformers==4.24.0 in /home/jovyan/.imgenv-hardcore-jepsen-0/lib/python3.7/site-packages (from -r ../requirements.txt (line 1)) (4.24.0)\n",
      "Requirement already satisfied: datasets==2.6.1 in /home/jovyan/.imgenv-hardcore-jepsen-0/lib/python3.7/site-packages (from -r ../requirements.txt (line 2)) (2.6.1)\n",
      "Requirement already satisfied: flax==0.6.1 in /home/jovyan/.imgenv-hardcore-jepsen-0/lib/python3.7/site-packages (from -r ../requirements.txt (line 3)) (0.6.1)\n",
      "Requirement already satisfied: fire==0.4.0 in /home/jovyan/.imgenv-hardcore-jepsen-0/lib/python3.7/site-packages (from -r ../requirements.txt (line 4)) (0.4.0)\n",
      "Requirement already satisfied: numpy>=1.17 in /home/user/conda/lib/python3.7/site-packages (from transformers==4.24.0->-r ../requirements.txt (line 1)) (1.21.5)\n",
      "Requirement already satisfied: filelock in /home/user/conda/lib/python3.7/site-packages (from transformers==4.24.0->-r ../requirements.txt (line 1)) (3.4.2)\n",
      "Requirement already satisfied: pyyaml>=5.1 in /home/user/conda/lib/python3.7/site-packages (from transformers==4.24.0->-r ../requirements.txt (line 1)) (6.0)\n",
      "Requirement already satisfied: huggingface-hub<1.0,>=0.10.0 in /home/jovyan/.imgenv-hardcore-jepsen-0/lib/python3.7/site-packages (from transformers==4.24.0->-r ../requirements.txt (line 1)) (0.16.4)\n",
      "Requirement already satisfied: tqdm>=4.27 in /home/user/conda/lib/python3.7/site-packages (from transformers==4.24.0->-r ../requirements.txt (line 1)) (4.62.3)\n",
      "Requirement already satisfied: importlib-metadata in /home/user/conda/lib/python3.7/site-packages (from transformers==4.24.0->-r ../requirements.txt (line 1)) (4.10.1)\n",
      "Requirement already satisfied: tokenizers!=0.11.3,<0.14,>=0.11.1 in /home/jovyan/.imgenv-hardcore-jepsen-0/lib/python3.7/site-packages (from transformers==4.24.0->-r ../requirements.txt (line 1)) (0.13.3)\n",
      "Requirement already satisfied: regex!=2019.12.17 in /home/user/conda/lib/python3.7/site-packages (from transformers==4.24.0->-r ../requirements.txt (line 1)) (2022.1.18)\n",
      "Requirement already satisfied: packaging>=20.0 in /home/user/conda/lib/python3.7/site-packages (from transformers==4.24.0->-r ../requirements.txt (line 1)) (21.3)\n",
      "Requirement already satisfied: requests in /home/user/conda/lib/python3.7/site-packages (from transformers==4.24.0->-r ../requirements.txt (line 1)) (2.27.1)\n",
      "Requirement already satisfied: aiohttp in /home/user/conda/lib/python3.7/site-packages (from datasets==2.6.1->-r ../requirements.txt (line 2)) (3.8.1)\n",
      "Requirement already satisfied: xxhash in /home/jovyan/.imgenv-hardcore-jepsen-0/lib/python3.7/site-packages (from datasets==2.6.1->-r ../requirements.txt (line 2)) (3.4.1)\n",
      "Requirement already satisfied: dill<0.3.6 in /home/jovyan/.imgenv-hardcore-jepsen-0/lib/python3.7/site-packages (from datasets==2.6.1->-r ../requirements.txt (line 2)) (0.3.5.1)\n",
      "Requirement already satisfied: fsspec[http]>=2021.11.1 in /home/user/conda/lib/python3.7/site-packages (from datasets==2.6.1->-r ../requirements.txt (line 2)) (2022.1.0)\n",
      "Requirement already satisfied: pyarrow>=6.0.0 in /home/user/conda/lib/python3.7/site-packages (from datasets==2.6.1->-r ../requirements.txt (line 2)) (6.0.1)\n",
      "Requirement already satisfied: pandas in /home/user/conda/lib/python3.7/site-packages (from datasets==2.6.1->-r ../requirements.txt (line 2)) (1.3.5)\n",
      "Requirement already satisfied: multiprocess in /home/jovyan/.imgenv-hardcore-jepsen-0/lib/python3.7/site-packages (from datasets==2.6.1->-r ../requirements.txt (line 2)) (0.70.13)\n",
      "Requirement already satisfied: responses<0.19 in /home/jovyan/.imgenv-hardcore-jepsen-0/lib/python3.7/site-packages (from datasets==2.6.1->-r ../requirements.txt (line 2)) (0.18.0)\n",
      "Requirement already satisfied: jax>=0.3.16 in /home/jovyan/.imgenv-hardcore-jepsen-0/lib/python3.7/site-packages (from flax==0.6.1->-r ../requirements.txt (line 3)) (0.3.25)\n",
      "Requirement already satisfied: msgpack in /home/user/conda/lib/python3.7/site-packages (from flax==0.6.1->-r ../requirements.txt (line 3)) (1.0.3)\n",
      "Requirement already satisfied: rich>=11.1 in /home/jovyan/.imgenv-hardcore-jepsen-0/lib/python3.7/site-packages (from flax==0.6.1->-r ../requirements.txt (line 3)) (13.6.0)\n",
      "Requirement already satisfied: typing-extensions>=4.1.1 in /home/jovyan/.imgenv-hardcore-jepsen-0/lib/python3.7/site-packages (from flax==0.6.1->-r ../requirements.txt (line 3)) (4.7.1)\n",
      "Requirement already satisfied: matplotlib in /home/user/conda/lib/python3.7/site-packages (from flax==0.6.1->-r ../requirements.txt (line 3)) (3.5.1)\n",
      "Requirement already satisfied: optax in /home/jovyan/.imgenv-hardcore-jepsen-0/lib/python3.7/site-packages (from flax==0.6.1->-r ../requirements.txt (line 3)) (0.1.4)\n",
      "Requirement already satisfied: six in /home/user/conda/lib/python3.7/site-packages (from fire==0.4.0->-r ../requirements.txt (line 4)) (1.16.0)\n",
      "Requirement already satisfied: termcolor in /home/jovyan/.imgenv-hardcore-jepsen-0/lib/python3.7/site-packages (from fire==0.4.0->-r ../requirements.txt (line 4)) (2.3.0)\n",
      "Requirement already satisfied: scipy>=1.5 in /home/user/conda/lib/python3.7/site-packages (from jax>=0.3.16->flax==0.6.1->-r ../requirements.txt (line 3)) (1.7.3)\n",
      "Requirement already satisfied: opt-einsum in /home/jovyan/.imgenv-hardcore-jepsen-0/lib/python3.7/site-packages (from jax>=0.3.16->flax==0.6.1->-r ../requirements.txt (line 3)) (3.3.0)\n",
      "Requirement already satisfied: pyparsing!=3.0.5,>=2.0.2 in /home/user/conda/lib/python3.7/site-packages (from packaging>=20.0->transformers==4.24.0->-r ../requirements.txt (line 1)) (3.0.7)\n",
      "Requirement already satisfied: charset-normalizer~=2.0.0 in /home/user/conda/lib/python3.7/site-packages (from requests->transformers==4.24.0->-r ../requirements.txt (line 1)) (2.0.10)\n",
      "Requirement already satisfied: urllib3<1.27,>=1.21.1 in /home/user/conda/lib/python3.7/site-packages (from requests->transformers==4.24.0->-r ../requirements.txt (line 1)) (1.26.8)\n",
      "Requirement already satisfied: certifi>=2017.4.17 in /home/user/conda/lib/python3.7/site-packages (from requests->transformers==4.24.0->-r ../requirements.txt (line 1)) (2021.10.8)\n",
      "Requirement already satisfied: idna<4,>=2.5 in /home/user/conda/lib/python3.7/site-packages (from requests->transformers==4.24.0->-r ../requirements.txt (line 1)) (3.3)\n",
      "Requirement already satisfied: pygments<3.0.0,>=2.13.0 in /home/jovyan/.imgenv-hardcore-jepsen-0/lib/python3.7/site-packages (from rich>=11.1->flax==0.6.1->-r ../requirements.txt (line 3)) (2.16.1)\n",
      "Requirement already satisfied: markdown-it-py>=2.2.0 in /home/jovyan/.imgenv-hardcore-jepsen-0/lib/python3.7/site-packages (from rich>=11.1->flax==0.6.1->-r ../requirements.txt (line 3)) (2.2.0)\n",
      "Requirement already satisfied: attrs>=17.3.0 in /home/user/conda/lib/python3.7/site-packages (from aiohttp->datasets==2.6.1->-r ../requirements.txt (line 2)) (21.4.0)\n",
      "Requirement already satisfied: asynctest==0.13.0 in /home/user/conda/lib/python3.7/site-packages (from aiohttp->datasets==2.6.1->-r ../requirements.txt (line 2)) (0.13.0)\n",
      "Requirement already satisfied: frozenlist>=1.1.1 in /home/user/conda/lib/python3.7/site-packages (from aiohttp->datasets==2.6.1->-r ../requirements.txt (line 2)) (1.3.0)\n",
      "Requirement already satisfied: multidict<7.0,>=4.5 in /home/user/conda/lib/python3.7/site-packages (from aiohttp->datasets==2.6.1->-r ../requirements.txt (line 2)) (5.2.0)\n",
      "Requirement already satisfied: aiosignal>=1.1.2 in /home/user/conda/lib/python3.7/site-packages (from aiohttp->datasets==2.6.1->-r ../requirements.txt (line 2)) (1.2.0)\n",
      "Requirement already satisfied: yarl<2.0,>=1.0 in /home/user/conda/lib/python3.7/site-packages (from aiohttp->datasets==2.6.1->-r ../requirements.txt (line 2)) (1.7.2)\n",
      "Requirement already satisfied: async-timeout<5.0,>=4.0.0a3 in /home/user/conda/lib/python3.7/site-packages (from aiohttp->datasets==2.6.1->-r ../requirements.txt (line 2)) (4.0.2)\n",
      "Requirement already satisfied: zipp>=0.5 in /home/user/conda/lib/python3.7/site-packages (from importlib-metadata->transformers==4.24.0->-r ../requirements.txt (line 1)) (3.7.0)\n",
      "Requirement already satisfied: pillow>=6.2.0 in /home/user/conda/lib/python3.7/site-packages (from matplotlib->flax==0.6.1->-r ../requirements.txt (line 3)) (9.0.0)\n",
      "Requirement already satisfied: kiwisolver>=1.0.1 in /home/user/conda/lib/python3.7/site-packages (from matplotlib->flax==0.6.1->-r ../requirements.txt (line 3)) (1.3.2)\n",
      "Requirement already satisfied: fonttools>=4.22.0 in /home/user/conda/lib/python3.7/site-packages (from matplotlib->flax==0.6.1->-r ../requirements.txt (line 3)) (4.28.5)\n",
      "Requirement already satisfied: cycler>=0.10 in /home/user/conda/lib/python3.7/site-packages (from matplotlib->flax==0.6.1->-r ../requirements.txt (line 3)) (0.11.0)\n",
      "Requirement already satisfied: python-dateutil>=2.7 in /home/user/conda/lib/python3.7/site-packages (from matplotlib->flax==0.6.1->-r ../requirements.txt (line 3)) (2.8.2)\n"
     ]
    },
    {
     "name": "stdout",
     "output_type": "stream",
     "text": [
      "Requirement already satisfied: absl-py>=0.7.1 in /home/user/conda/lib/python3.7/site-packages (from optax->flax==0.6.1->-r ../requirements.txt (line 3)) (1.0.0)\n",
      "Requirement already satisfied: chex>=0.1.5 in /home/jovyan/.imgenv-hardcore-jepsen-0/lib/python3.7/site-packages (from optax->flax==0.6.1->-r ../requirements.txt (line 3)) (0.1.5)\n",
      "Requirement already satisfied: jaxlib>=0.1.37 in /home/jovyan/.imgenv-hardcore-jepsen-0/lib/python3.7/site-packages (from optax->flax==0.6.1->-r ../requirements.txt (line 3)) (0.1.63)\n",
      "Requirement already satisfied: pytz>=2017.3 in /home/user/conda/lib/python3.7/site-packages (from pandas->datasets==2.6.1->-r ../requirements.txt (line 2)) (2021.3)\n",
      "Requirement already satisfied: toolz>=0.9.0 in /home/user/conda/lib/python3.7/site-packages (from chex>=0.1.5->optax->flax==0.6.1->-r ../requirements.txt (line 3)) (0.11.2)\n",
      "Requirement already satisfied: dm-tree>=0.1.5 in /home/jovyan/.imgenv-hardcore-jepsen-0/lib/python3.7/site-packages (from chex>=0.1.5->optax->flax==0.6.1->-r ../requirements.txt (line 3)) (0.1.8)\n",
      "Requirement already satisfied: flatbuffers in /home/jovyan/.imgenv-hardcore-jepsen-0/lib/python3.7/site-packages (from jaxlib>=0.1.37->optax->flax==0.6.1->-r ../requirements.txt (line 3)) (23.5.26)\n",
      "Requirement already satisfied: mdurl~=0.1 in /home/jovyan/.imgenv-hardcore-jepsen-0/lib/python3.7/site-packages (from markdown-it-py>=2.2.0->rich>=11.1->flax==0.6.1->-r ../requirements.txt (line 3)) (0.1.2)\n"
     ]
    }
   ],
   "source": [
    "!pip install -r ../requirements.txt"
   ]
  },
  {
   "cell_type": "code",
   "execution_count": 1,
   "id": "200fb72c",
   "metadata": {},
   "outputs": [
    {
     "name": "stdout",
     "output_type": "stream",
     "text": [
      "/home/jovyan/protasov/LR_Transfer/mt5_experiments\n"
     ]
    }
   ],
   "source": [
    "cd ../mt5_experiments/"
   ]
  },
  {
   "cell_type": "code",
   "execution_count": 2,
   "id": "cf1de4be",
   "metadata": {},
   "outputs": [],
   "source": [
    "from tl_experiments import mt5PerplexityExperiments"
   ]
  },
  {
   "cell_type": "code",
   "execution_count": 3,
   "id": "47447ad5",
   "metadata": {},
   "outputs": [],
   "source": [
    "init = mt5PerplexityExperiments(device='cuda:0', model_id=\"google/mt5-small\")"
   ]
  },
  {
   "cell_type": "code",
   "execution_count": 4,
   "id": "dba4a616",
   "metadata": {},
   "outputs": [],
   "source": [
    "dataset_folder = \"/home/jovyan/XL_Data/jovyan/protasov/XL_Dataset/Slovene/\""
   ]
  },
  {
   "cell_type": "code",
   "execution_count": null,
   "id": "5bf6ef1b",
   "metadata": {},
   "outputs": [
    {
     "data": {
      "application/vnd.jupyter.widget-view+json": {
       "model_id": "c9dee34f3de14cb5b207162d51a617c7",
       "version_major": 2,
       "version_minor": 0
      },
      "text/plain": [
       "Resolving data files:   0%|          | 0/277 [00:00<?, ?it/s]"
      ]
     },
     "metadata": {},
     "output_type": "display_data"
    },
    {
     "name": "stderr",
     "output_type": "stream",
     "text": [
      "WARNING:datasets.builder:Using custom data configuration default-7bcd2aa503a162d0\n",
      "WARNING:datasets.builder:Found cached dataset text (/home/jovyan/.cache/huggingface/datasets/text/default-7bcd2aa503a162d0/0.0.0/21a506d1b2b34316b1e82d0bd79066905d846e5d7e619823c0dd338d6f1fa6ad)\n"
     ]
    },
    {
     "data": {
      "application/vnd.jupyter.widget-view+json": {
       "model_id": "96586e6b25604674a33a3a1ca6e01d68",
       "version_major": 2,
       "version_minor": 0
      },
      "text/plain": [
       "  0%|          | 0/450 [00:00<?, ?ba/s]"
      ]
     },
     "metadata": {},
     "output_type": "display_data"
    },
    {
     "data": {
      "application/vnd.jupyter.widget-view+json": {
       "model_id": "b342fdd16cfb414cac36dd537e237a32",
       "version_major": 2,
       "version_minor": 0
      },
      "text/plain": [
       "  0%|          | 0/50 [00:00<?, ?ba/s]"
      ]
     },
     "metadata": {},
     "output_type": "display_data"
    },
    {
     "data": {
      "application/vnd.jupyter.widget-view+json": {
       "model_id": "04cdccf1b0864ecaa709da5a39adbbd1",
       "version_major": 2,
       "version_minor": 0
      },
      "text/plain": [
       "  0%|          | 0/450 [00:00<?, ?ba/s]"
      ]
     },
     "metadata": {},
     "output_type": "display_data"
    },
    {
     "data": {
      "application/vnd.jupyter.widget-view+json": {
       "model_id": "2f87d3ce759e41069cac83b23670ad63",
       "version_major": 2,
       "version_minor": 0
      },
      "text/plain": [
       "  0%|          | 0/50 [00:00<?, ?ba/s]"
      ]
     },
     "metadata": {},
     "output_type": "display_data"
    },
    {
     "name": "stderr",
     "output_type": "stream",
     "text": [
      "WARNING:datasets.arrow_dataset:Loading cached processed dataset at /home/jovyan/.cache/huggingface/datasets/text/default-7bcd2aa503a162d0/0.0.0/21a506d1b2b34316b1e82d0bd79066905d846e5d7e619823c0dd338d6f1fa6ad/cache-f0af44d29a4bae5d.arrow\n",
      "WARNING:datasets.arrow_dataset:Loading cached processed dataset at /home/jovyan/.cache/huggingface/datasets/text/default-7bcd2aa503a162d0/0.0.0/21a506d1b2b34316b1e82d0bd79066905d846e5d7e619823c0dd338d6f1fa6ad/cache-140474886acc69cf.arrow\n",
      "WARNING:datasets.arrow_dataset:Loading cached processed dataset at /home/jovyan/.cache/huggingface/datasets/text/default-7bcd2aa503a162d0/0.0.0/21a506d1b2b34316b1e82d0bd79066905d846e5d7e619823c0dd338d6f1fa6ad/cache-ee34b676ac1f833c.arrow\n",
      "WARNING:datasets.arrow_dataset:Loading cached processed dataset at /home/jovyan/.cache/huggingface/datasets/text/default-7bcd2aa503a162d0/0.0.0/21a506d1b2b34316b1e82d0bd79066905d846e5d7e619823c0dd338d6f1fa6ad/cache-c50afc9a347f6f93.arrow\n",
      "/home/jovyan/.imgenv-hardcore-jepsen-0/lib/python3.7/site-packages/transformers/optimization.py:310: FutureWarning: This implementation of AdamW is deprecated and will be removed in a future version. Use the PyTorch implementation torch.optim.AdamW instead, or set `no_deprecation_warning=True` to disable this warning\n",
      "  FutureWarning,\n"
     ]
    },
    {
     "data": {
      "application/vnd.jupyter.widget-view+json": {
       "model_id": "3da5fec92c204c43a8a75df1a782d26b",
       "version_major": 2,
       "version_minor": 0
      },
      "text/plain": [
       "  0%|          | 0/1 [00:00<?, ?it/s]"
      ]
     },
     "metadata": {},
     "output_type": "display_data"
    },
    {
     "data": {
      "application/vnd.jupyter.widget-view+json": {
       "model_id": "8920423eec734c0ab9ad066d6568189d",
       "version_major": 2,
       "version_minor": 0
      },
      "text/plain": [
       "Training...:   0%|          | 0/7319 [00:00<?, ?it/s]"
      ]
     },
     "metadata": {},
     "output_type": "display_data"
    },
    {
     "name": "stderr",
     "output_type": "stream",
     "text": [
      "WARNING:jax._src.lib.xla_bridge:No GPU/TPU found, falling back to CPU. (Set TF_CPP_MIN_LOG_LEVEL=0 and rerun for more info.)\n"
     ]
    },
    {
     "name": "stdout",
     "output_type": "stream",
     "text": [
      "\n",
      "TRAIN ITERATION: 365\t FOR /home/jovyan/XL_Data/jovyan/protasov/XL_Dataset/Slovene/ \t Perplexity = 30138.714008695068\n",
      "\n"
     ]
    },
    {
     "data": {
      "application/vnd.jupyter.widget-view+json": {
       "model_id": "065552cb6a344ea19c71cf9280b2ce8e",
       "version_major": 2,
       "version_minor": 0
      },
      "text/plain": [
       "Validation...:   0%|          | 0/807 [00:00<?, ?it/s]"
      ]
     },
     "metadata": {},
     "output_type": "display_data"
    },
    {
     "name": "stdout",
     "output_type": "stream",
     "text": [
      "\n",
      "VALIDATION ITERATION: 365\t FOR /home/jovyan/XL_Data/jovyan/protasov/XL_Dataset/Slovene/ \t Perplexity = 286.80526489646604\n",
      "\n"
     ]
    },
    {
     "data": {
      "application/vnd.jupyter.widget-view+json": {
       "model_id": "507c18c6b34148a5903885f9d4732762",
       "version_major": 2,
       "version_minor": 0
      },
      "text/plain": [
       "  0%|          | 0/1 [00:00<?, ?it/s]"
      ]
     },
     "metadata": {},
     "output_type": "display_data"
    },
    {
     "name": "stderr",
     "output_type": "stream",
     "text": [
      "WARNING:datasets.builder:Using custom data configuration default-2466ca775a36b1bb\n",
      "WARNING:datasets.builder:Found cached dataset text (/home/jovyan/.cache/huggingface/datasets/text/default-2466ca775a36b1bb/0.0.0/21a506d1b2b34316b1e82d0bd79066905d846e5d7e619823c0dd338d6f1fa6ad)\n"
     ]
    },
    {
     "data": {
      "application/vnd.jupyter.widget-view+json": {
       "model_id": "d2d2b77960884c1da652de0e399bffe4",
       "version_major": 2,
       "version_minor": 0
      },
      "text/plain": [
       "  0%|          | 0/1 [00:00<?, ?it/s]"
      ]
     },
     "metadata": {},
     "output_type": "display_data"
    },
    {
     "data": {
      "application/vnd.jupyter.widget-view+json": {
       "model_id": "30a7e9888a504629b67eb0d72cbf2474",
       "version_major": 2,
       "version_minor": 0
      },
      "text/plain": [
       "  0%|          | 0/15 [00:00<?, ?ba/s]"
      ]
     },
     "metadata": {},
     "output_type": "display_data"
    },
    {
     "data": {
      "application/vnd.jupyter.widget-view+json": {
       "model_id": "e899298364df40dd944c9827aa50becd",
       "version_major": 2,
       "version_minor": 0
      },
      "text/plain": [
       "  0%|          | 0/15 [00:00<?, ?ba/s]"
      ]
     },
     "metadata": {},
     "output_type": "display_data"
    },
    {
     "data": {
      "application/vnd.jupyter.widget-view+json": {
       "model_id": "c94b040beb95416b9aa8909771509250",
       "version_major": 2,
       "version_minor": 0
      },
      "text/plain": [
       "Testing...:   0%|          | 0/8 [00:00<?, ?it/s]"
      ]
     },
     "metadata": {},
     "output_type": "display_data"
    },
    {
     "name": "stdout",
     "output_type": "stream",
     "text": [
      "\n",
      "TEST: For /home/jovyan/XL_Data/jovyan/protasov/XL_Dataset/Shor \t Perplexity = 822.9680573632434\n",
      "\n"
     ]
    }
   ],
   "source": [
    "#for _ in range(3):\n",
    "init.training(\n",
    "    train_valid_dir=dataset_folder,\n",
    "    per_device_batch_size=8,\n",
    "    n_epochs=1,\n",
    "    lr_languages_to_test = [\"Shor\"],\n",
    "    max_dataset_len = 500000,\n",
    "    save_checkpoints = True\n",
    ")\n",
    "#init.log_dict.clear()"
   ]
  },
  {
   "cell_type": "code",
   "execution_count": null,
   "id": "724f33d0",
   "metadata": {},
   "outputs": [],
   "source": []
  }
 ],
 "metadata": {
  "kernelspec": {
   "display_name": "Python 3 (ipykernel)",
   "language": "python",
   "name": "python3"
  },
  "language_info": {
   "codemirror_mode": {
    "name": "ipython",
    "version": 3
   },
   "file_extension": ".py",
   "mimetype": "text/x-python",
   "name": "python",
   "nbconvert_exporter": "python",
   "pygments_lexer": "ipython3",
   "version": "3.7.12"
  }
 },
 "nbformat": 4,
 "nbformat_minor": 5
}
