{
 "cells": [
  {
   "cell_type": "code",
   "execution_count": 1,
   "id": "d0b55534",
   "metadata": {},
   "outputs": [
    {
     "name": "stdout",
     "output_type": "stream",
     "text": [
      "/home/jovyan/protasov/LR_Transfer/notebooks\r\n"
     ]
    }
   ],
   "source": [
    "!pwd"
   ]
  },
  {
   "cell_type": "code",
   "execution_count": 1,
   "id": "5487958a",
   "metadata": {
    "scrolled": true
   },
   "outputs": [
    {
     "name": "stdout",
     "output_type": "stream",
     "text": [
      "Requirement already satisfied: transformers==4.24.0 in /home/jovyan/.imgenv-great-rosalind-0/lib/python3.7/site-packages (from -r ../requirements.txt (line 1)) (4.24.0)\n",
      "Requirement already satisfied: datasets==2.6.1 in /home/jovyan/.imgenv-great-rosalind-0/lib/python3.7/site-packages (from -r ../requirements.txt (line 2)) (2.6.1)\n",
      "Requirement already satisfied: flax==0.6.1 in /home/jovyan/.imgenv-great-rosalind-0/lib/python3.7/site-packages (from -r ../requirements.txt (line 3)) (0.6.1)\n",
      "Requirement already satisfied: fire==0.4.0 in /home/jovyan/.imgenv-great-rosalind-0/lib/python3.7/site-packages (from -r ../requirements.txt (line 4)) (0.4.0)\n",
      "Collecting jax==0.3.22\n",
      "  Using cached jax-0.3.22-py3-none-any.whl\n",
      "\u001b[31mERROR: Could not find a version that satisfies the requirement jaxlib==0.3.25 (from versions: 0.1.63)\u001b[0m\n",
      "\u001b[31mERROR: No matching distribution found for jaxlib==0.3.25\u001b[0m\n"
     ]
    }
   ],
   "source": [
    "!pip install -r ../requirements.txt"
   ]
  },
  {
   "cell_type": "code",
   "execution_count": 3,
   "id": "55fc476d",
   "metadata": {},
   "outputs": [
    {
     "name": "stdout",
     "output_type": "stream",
     "text": [
      "Looking in links: https://storage.googleapis.com/jax-releases/jax_releases.html\n",
      "Requirement already satisfied: jax==0.3.22 in /home/user/conda/lib/python3.7/site-packages (0.3.22)\n",
      "Collecting jaxlib==0.3.22\n",
      "  Using cached https://storage.googleapis.com/jax-releases/nocuda/jaxlib-0.3.22-cp37-cp37m-manylinux2014_x86_64.whl (72.1 MB)\n",
      "Requirement already satisfied: opt-einsum in /home/jovyan/.imgenv-great-rosalind-0/lib/python3.7/site-packages (from jax==0.3.22) (3.3.0)\n",
      "Requirement already satisfied: numpy>=1.20 in /home/user/conda/lib/python3.7/site-packages (from jax==0.3.22) (1.21.5)\n",
      "Requirement already satisfied: scipy>=1.5 in /home/user/conda/lib/python3.7/site-packages (from jax==0.3.22) (1.7.3)\n",
      "Requirement already satisfied: typing-extensions in /home/jovyan/.imgenv-great-rosalind-0/lib/python3.7/site-packages (from jax==0.3.22) (4.7.1)\n",
      "Requirement already satisfied: etils[epath] in /home/user/conda/lib/python3.7/site-packages (from jax==0.3.22) (0.9.0)\n",
      "Requirement already satisfied: absl-py in /home/user/conda/lib/python3.7/site-packages (from jax==0.3.22) (1.0.0)\n",
      "Requirement already satisfied: six in /home/user/conda/lib/python3.7/site-packages (from absl-py->jax==0.3.22) (1.16.0)\n",
      "Requirement already satisfied: importlib_resources in /home/user/conda/lib/python3.7/site-packages (from etils[epath]->jax==0.3.22) (5.4.0)\n",
      "Requirement already satisfied: zipp in /home/user/conda/lib/python3.7/site-packages (from etils[epath]->jax==0.3.22) (3.7.0)\n",
      "Installing collected packages: jaxlib\n",
      "  Attempting uninstall: jaxlib\n",
      "    Found existing installation: jaxlib 0.3.25\n",
      "    Uninstalling jaxlib-0.3.25:\n",
      "      Successfully uninstalled jaxlib-0.3.25\n",
      "Successfully installed jaxlib-0.3.22\n",
      "Note: you may need to restart the kernel to use updated packages.\n"
     ]
    }
   ],
   "source": [
    "pip install jax==0.3.22 jaxlib==0.3.22 -f https://storage.googleapis.com/jax-releases/jax_releases.html"
   ]
  },
  {
   "cell_type": "code",
   "execution_count": 1,
   "id": "1ffa64dc",
   "metadata": {},
   "outputs": [
    {
     "name": "stdout",
     "output_type": "stream",
     "text": [
      "/home/jovyan/protasov/LR_Transfer/mt5_experiments\n"
     ]
    }
   ],
   "source": [
    "cd ../mt5_experiments/"
   ]
  },
  {
   "cell_type": "code",
   "execution_count": 2,
   "id": "1589cc66",
   "metadata": {},
   "outputs": [],
   "source": [
    "from tl_experiments import mt5PerplexityExperiments"
   ]
  },
  {
   "cell_type": "code",
   "execution_count": 3,
   "id": "36fb0b95",
   "metadata": {},
   "outputs": [],
   "source": [
    "init = mt5PerplexityExperiments(device='cuda:0', model_id=\"google/mt5-small\")"
   ]
  },
  {
   "cell_type": "code",
   "execution_count": 4,
   "id": "68c975b1",
   "metadata": {},
   "outputs": [],
   "source": [
    "dataset_folder = \"/home/jovyan/XL_Data/jovyan/protasov/XL_Dataset/Slovene/\""
   ]
  },
  {
   "cell_type": "code",
   "execution_count": null,
   "id": "32994b36",
   "metadata": {},
   "outputs": [
    {
     "data": {
      "text/html": [
       "<div>\n",
       "<style scoped>\n",
       "    .dataframe tbody tr th:only-of-type {\n",
       "        vertical-align: middle;\n",
       "    }\n",
       "\n",
       "    .dataframe tbody tr th {\n",
       "        vertical-align: top;\n",
       "    }\n",
       "\n",
       "    .dataframe thead th {\n",
       "        text-align: right;\n",
       "    }\n",
       "</style>\n",
       "<table border=\"1\" class=\"dataframe\">\n",
       "  <thead>\n",
       "    <tr style=\"text-align: right;\">\n",
       "      <th></th>\n",
       "      <th>iteration</th>\n",
       "      <th>train_loss</th>\n",
       "      <th>val_perplexity</th>\n",
       "    </tr>\n",
       "  </thead>\n",
       "  <tbody>\n",
       "    <tr>\n",
       "      <th>0</th>\n",
       "      <td>36</td>\n",
       "      <td>30.425000</td>\n",
       "      <td>1.209055e+10</td>\n",
       "    </tr>\n",
       "    <tr>\n",
       "      <th>1</th>\n",
       "      <td>72</td>\n",
       "      <td>23.544268</td>\n",
       "      <td>1.623348e+04</td>\n",
       "    </tr>\n",
       "  </tbody>\n",
       "</table>\n",
       "</div>"
      ],
      "text/plain": [
       "   iteration  train_loss  val_perplexity\n",
       "0         36   30.425000    1.209055e+10\n",
       "1         72   23.544268    1.623348e+04"
      ]
     },
     "metadata": {},
     "output_type": "display_data"
    }
   ],
   "source": [
    "#for _ in range(3):\n",
    "init.training(\n",
    "    train_valid_dir=dataset_folder,\n",
    "    per_device_batch_size=8,\n",
    "    n_epochs=1,\n",
    "    max_dataset_len = 50000,\n",
    "    save_checkpoints = True\n",
    ")\n",
    "#init.log_dict.clear()"
   ]
  },
  {
   "cell_type": "code",
   "execution_count": null,
   "id": "b1061f12",
   "metadata": {},
   "outputs": [],
   "source": []
  }
 ],
 "metadata": {
  "kernelspec": {
   "display_name": "Python 3 (ipykernel)",
   "language": "python",
   "name": "python3"
  },
  "language_info": {
   "codemirror_mode": {
    "name": "ipython",
    "version": 3
   },
   "file_extension": ".py",
   "mimetype": "text/x-python",
   "name": "python",
   "nbconvert_exporter": "python",
   "pygments_lexer": "ipython3",
   "version": "3.7.12"
  }
 },
 "nbformat": 4,
 "nbformat_minor": 5
}
